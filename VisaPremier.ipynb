{
  "nbformat": 4,
  "nbformat_minor": 0,
  "metadata": {
    "colab": {
      "name": "VisaPremier.ipynb",
      "provenance": [],
      "collapsed_sections": [],
      "authorship_tag": "ABX9TyMUpGDGC02aZcwpWDV20Lz9",
      "include_colab_link": true
    },
    "kernelspec": {
      "name": "python3",
      "display_name": "Python 3"
    }
  },
  "cells": [
    {
      "cell_type": "markdown",
      "metadata": {
        "id": "view-in-github",
        "colab_type": "text"
      },
      "source": [
        "<a href=\"https://colab.research.google.com/github/forloulhoucine/Score-dappetence-de-la-carte-visa-premier/blob/main/VisaPremier.ipynb\" target=\"_parent\"><img src=\"https://colab.research.google.com/assets/colab-badge.svg\" alt=\"Open In Colab\"/></a>"
      ]
    },
    {
      "cell_type": "markdown",
      "metadata": {
        "id": "fg6tHuXUCj97"
      },
      "source": [
        "# **Projet Data : Score d’appétence de la carte visa premier**"
      ]
    },
    {
      "cell_type": "markdown",
      "metadata": {
        "id": "ZullxxjCEo5y"
      },
      "source": [
        "### **La description du dataset**\n",
        "Il s’agit d’une base de données décrivant les clients d’une banque et\n",
        "leurs comportements (mouvements, soldes des différents comptes). La variable à expliquer Y est\n",
        "la variable binaire « Possession de la carte Visa Premier ».\n",
        "Les données sont composées de 1073 clients d'une banque décrits par 47 variables concernant leurs avoirs, et utilisations de leurs comptes.\n",
        "\n",
        "\n"
      ]
    },
    {
      "cell_type": "markdown",
      "metadata": {
        "id": "UCs2aFQ1L4CD"
      },
      "source": [
        "### **La préparation du dataset**\r\n",
        "1- On a copié  le dataset du fichier texte dans un fichier Excel (.csv)\r\n",
        "\r\n",
        "2- On a supprimé quelques lignes avec des valeurs manquantes (qui contient \".\" et \"F.\" comme valeure).\r\n",
        "\r\n",
        "3- On a supprimé qulque colonnes qui contient que des valaurs null comme(nbimpaye,mtrejet).\r\n",
        "\r\n",
        "4-Et pour la varialbe ‘matricul’, c’est id, donc ce n’est pas\r\n",
        "une vraie variables.\r\n",
        "\r\n",
        "5-Pour les deux variables sexe et cartevp il exite leur double codé en (0/1) donc on va laisser les deux variable codés sexer (0='Shom'/1='Sfem')  et cartevpr (0='Cnon'/1='Coui').  "
      ]
    },
    {
      "cell_type": "markdown",
      "metadata": {
        "id": "G__gZytKHx91"
      },
      "source": [
        "### **Importation des librairies**\r\n"
      ]
    },
    {
      "cell_type": "code",
      "metadata": {
        "id": "3lElgukkHmDf"
      },
      "source": [
        "#libraries \r\n",
        "import numpy as np\r\n",
        "import pandas as pd\r\n",
        "import random as rd\r\n",
        "import seaborn as sb\r\n",
        "import matplotlib.pyplot as plt\r\n",
        "#metrics\r\n",
        "from sklearn.metrics import accuracy_score\r\n",
        "from sklearn.metrics import f1_score\r\n",
        "from sklearn.metrics import plot_confusion_matrix\r\n",
        "%matplotlib inline\r\n",
        "#algorithms\r\n",
        "from sklearn.discriminant_analysis import LinearDiscriminantAnalysis as LDA\r\n",
        "from sklearn.discriminant_analysis import QuadraticDiscriminantAnalysis as QDA\r\n",
        "from sklearn import svm\r\n",
        "from sklearn.neighbors import KNeighborsClassifier \r\n",
        "from sklearn.naive_bayes import BernoulliNB\r\n",
        "from sklearn.linear_model import LogisticRegression\r\n",
        "from sklearn.tree import DecisionTreeClassifier\r\n",
        "from sklearn.ensemble import RandomForestRegressor\r\n",
        "from sklearn.ensemble import RandomForestClassifier\r\n",
        "#preprocessing \r\n",
        "from sklearn.preprocessing import StandardScaler\r\n",
        "#model_selection\r\n",
        "from sklearn.model_selection import train_test_split\r\n",
        "from sklearn.model_selection import GridSearchCV"
      ],
      "execution_count": null,
      "outputs": []
    },
    {
      "cell_type": "markdown",
      "metadata": {
        "id": "NnYay1wFIDMd"
      },
      "source": [
        "### **La lecture du dateset finale** "
      ]
    },
    {
      "cell_type": "code",
      "metadata": {
        "id": "MWsnxnkBIK8D",
        "colab": {
          "base_uri": "https://localhost:8080/",
          "height": 317
        },
        "outputId": "2d16a910-3b8f-45f0-d60f-705ca7934c4f"
      },
      "source": [
        "D=pd.read_csv(\"VisaPremier.csv\",sep=';')\r\n",
        "D.describe()"
      ],
      "execution_count": null,
      "outputs": [
        {
          "output_type": "execute_result",
          "data": {
            "text/html": [
              "<div>\n",
              "<style scoped>\n",
              "    .dataframe tbody tr th:only-of-type {\n",
              "        vertical-align: middle;\n",
              "    }\n",
              "\n",
              "    .dataframe tbody tr th {\n",
              "        vertical-align: top;\n",
              "    }\n",
              "\n",
              "    .dataframe thead th {\n",
              "        text-align: right;\n",
              "    }\n",
              "</style>\n",
              "<table border=\"1\" class=\"dataframe\">\n",
              "  <thead>\n",
              "    <tr style=\"text-align: right;\">\n",
              "      <th></th>\n",
              "      <th>departem</th>\n",
              "      <th>ptvente</th>\n",
              "      <th>age</th>\n",
              "      <th>anciente</th>\n",
              "      <th>nbopguic</th>\n",
              "      <th>moycred3</th>\n",
              "      <th>aveparmo</th>\n",
              "      <th>endette</th>\n",
              "      <th>engagemt</th>\n",
              "      <th>engagemc</th>\n",
              "      <th>engagemm</th>\n",
              "      <th>nbcptvue</th>\n",
              "      <th>moysold3</th>\n",
              "      <th>moycredi</th>\n",
              "      <th>agemvt</th>\n",
              "      <th>nbop</th>\n",
              "      <th>mtfactur</th>\n",
              "      <th>engageml</th>\n",
              "      <th>nbvie</th>\n",
              "      <th>mtvie</th>\n",
              "      <th>nbeparmo</th>\n",
              "      <th>mteparmo</th>\n",
              "      <th>nbeparlo</th>\n",
              "      <th>mteparlo</th>\n",
              "      <th>nblivret</th>\n",
              "      <th>mtlivret</th>\n",
              "      <th>nbeparlt</th>\n",
              "      <th>mteparlt</th>\n",
              "      <th>nbeparte</th>\n",
              "      <th>mteparte</th>\n",
              "      <th>nbbon</th>\n",
              "      <th>mtbon</th>\n",
              "      <th>nbpaiecb</th>\n",
              "      <th>nbcb</th>\n",
              "      <th>nbcbptar</th>\n",
              "      <th>avtscpte</th>\n",
              "      <th>aveparfi</th>\n",
              "      <th>sexer</th>\n",
              "      <th>cartevpr</th>\n",
              "      <th>nbjdebit</th>\n",
              "    </tr>\n",
              "  </thead>\n",
              "  <tbody>\n",
              "    <tr>\n",
              "      <th>count</th>\n",
              "      <td>722.000000</td>\n",
              "      <td>722.000000</td>\n",
              "      <td>722.000000</td>\n",
              "      <td>722.000000</td>\n",
              "      <td>722.000000</td>\n",
              "      <td>722.000000</td>\n",
              "      <td>722.000000</td>\n",
              "      <td>722.000000</td>\n",
              "      <td>7.220000e+02</td>\n",
              "      <td>722.000000</td>\n",
              "      <td>7.220000e+02</td>\n",
              "      <td>722.000000</td>\n",
              "      <td>722.000000</td>\n",
              "      <td>722.000000</td>\n",
              "      <td>722.000000</td>\n",
              "      <td>722.000000</td>\n",
              "      <td>7.220000e+02</td>\n",
              "      <td>7.220000e+02</td>\n",
              "      <td>722.000000</td>\n",
              "      <td>7.220000e+02</td>\n",
              "      <td>722.000000</td>\n",
              "      <td>7.220000e+02</td>\n",
              "      <td>722.000000</td>\n",
              "      <td>722.000000</td>\n",
              "      <td>722.000000</td>\n",
              "      <td>722.000000</td>\n",
              "      <td>722.000000</td>\n",
              "      <td>722.000000</td>\n",
              "      <td>722.000000</td>\n",
              "      <td>722.000000</td>\n",
              "      <td>722.000000</td>\n",
              "      <td>7.220000e+02</td>\n",
              "      <td>722.000000</td>\n",
              "      <td>722.000000</td>\n",
              "      <td>722.000000</td>\n",
              "      <td>7.220000e+02</td>\n",
              "      <td>7.220000e+02</td>\n",
              "      <td>722.000000</td>\n",
              "      <td>722.000000</td>\n",
              "      <td>722.000000</td>\n",
              "    </tr>\n",
              "    <tr>\n",
              "      <th>mean</th>\n",
              "      <td>41.326870</td>\n",
              "      <td>1.617729</td>\n",
              "      <td>42.774238</td>\n",
              "      <td>165.916898</td>\n",
              "      <td>1.832410</td>\n",
              "      <td>63.583102</td>\n",
              "      <td>68280.422438</td>\n",
              "      <td>6.163435</td>\n",
              "      <td>9.576055e+04</td>\n",
              "      <td>5544.680055</td>\n",
              "      <td>2.406428e+04</td>\n",
              "      <td>1.163435</td>\n",
              "      <td>12986.545706</td>\n",
              "      <td>33.840720</td>\n",
              "      <td>15.358726</td>\n",
              "      <td>38.228532</td>\n",
              "      <td>3.065732e+04</td>\n",
              "      <td>6.615159e+04</td>\n",
              "      <td>0.282548</td>\n",
              "      <td>4.330978e+04</td>\n",
              "      <td>1.685596</td>\n",
              "      <td>9.531802e+04</td>\n",
              "      <td>0.718837</td>\n",
              "      <td>39041.232687</td>\n",
              "      <td>0.894737</td>\n",
              "      <td>24708.012465</td>\n",
              "      <td>0.066482</td>\n",
              "      <td>4531.177285</td>\n",
              "      <td>0.004155</td>\n",
              "      <td>29.292244</td>\n",
              "      <td>0.001385</td>\n",
              "      <td>2.700831e+04</td>\n",
              "      <td>11.887812</td>\n",
              "      <td>1.454294</td>\n",
              "      <td>0.180055</td>\n",
              "      <td>1.826865e+05</td>\n",
              "      <td>6.209931e+04</td>\n",
              "      <td>0.322715</td>\n",
              "      <td>0.425208</td>\n",
              "      <td>14.479224</td>\n",
              "    </tr>\n",
              "    <tr>\n",
              "      <th>std</th>\n",
              "      <td>19.284528</td>\n",
              "      <td>1.020248</td>\n",
              "      <td>11.247573</td>\n",
              "      <td>160.563013</td>\n",
              "      <td>2.934023</td>\n",
              "      <td>732.761732</td>\n",
              "      <td>126278.508056</td>\n",
              "      <td>12.642459</td>\n",
              "      <td>2.737621e+05</td>\n",
              "      <td>25986.229449</td>\n",
              "      <td>8.146749e+04</td>\n",
              "      <td>0.425789</td>\n",
              "      <td>26162.898187</td>\n",
              "      <td>159.802872</td>\n",
              "      <td>32.168896</td>\n",
              "      <td>26.820699</td>\n",
              "      <td>8.642604e+04</td>\n",
              "      <td>2.525218e+05</td>\n",
              "      <td>0.903346</td>\n",
              "      <td>3.260418e+05</td>\n",
              "      <td>1.362073</td>\n",
              "      <td>7.344357e+05</td>\n",
              "      <td>0.831024</td>\n",
              "      <td>84335.142649</td>\n",
              "      <td>0.810815</td>\n",
              "      <td>60034.252374</td>\n",
              "      <td>0.326391</td>\n",
              "      <td>32451.804673</td>\n",
              "      <td>0.064371</td>\n",
              "      <td>787.084280</td>\n",
              "      <td>0.037216</td>\n",
              "      <td>7.257149e+05</td>\n",
              "      <td>12.424971</td>\n",
              "      <td>0.695729</td>\n",
              "      <td>0.432059</td>\n",
              "      <td>8.871822e+05</td>\n",
              "      <td>4.010472e+05</td>\n",
              "      <td>0.467839</td>\n",
              "      <td>0.494717</td>\n",
              "      <td>24.772031</td>\n",
              "    </tr>\n",
              "    <tr>\n",
              "      <th>min</th>\n",
              "      <td>6.000000</td>\n",
              "      <td>1.000000</td>\n",
              "      <td>19.000000</td>\n",
              "      <td>1.000000</td>\n",
              "      <td>0.000000</td>\n",
              "      <td>0.000000</td>\n",
              "      <td>0.000000</td>\n",
              "      <td>0.000000</td>\n",
              "      <td>0.000000e+00</td>\n",
              "      <td>0.000000</td>\n",
              "      <td>0.000000e+00</td>\n",
              "      <td>0.000000</td>\n",
              "      <td>-70050.000000</td>\n",
              "      <td>0.000000</td>\n",
              "      <td>0.000000</td>\n",
              "      <td>0.000000</td>\n",
              "      <td>0.000000e+00</td>\n",
              "      <td>0.000000e+00</td>\n",
              "      <td>0.000000</td>\n",
              "      <td>0.000000e+00</td>\n",
              "      <td>0.000000</td>\n",
              "      <td>0.000000e+00</td>\n",
              "      <td>0.000000</td>\n",
              "      <td>0.000000</td>\n",
              "      <td>0.000000</td>\n",
              "      <td>0.000000</td>\n",
              "      <td>0.000000</td>\n",
              "      <td>0.000000</td>\n",
              "      <td>0.000000</td>\n",
              "      <td>0.000000</td>\n",
              "      <td>0.000000</td>\n",
              "      <td>0.000000e+00</td>\n",
              "      <td>0.000000</td>\n",
              "      <td>1.000000</td>\n",
              "      <td>0.000000</td>\n",
              "      <td>0.000000e+00</td>\n",
              "      <td>0.000000e+00</td>\n",
              "      <td>0.000000</td>\n",
              "      <td>0.000000</td>\n",
              "      <td>0.000000</td>\n",
              "    </tr>\n",
              "    <tr>\n",
              "      <th>25%</th>\n",
              "      <td>31.000000</td>\n",
              "      <td>1.000000</td>\n",
              "      <td>34.000000</td>\n",
              "      <td>55.250000</td>\n",
              "      <td>0.000000</td>\n",
              "      <td>9.000000</td>\n",
              "      <td>0.000000</td>\n",
              "      <td>0.000000</td>\n",
              "      <td>0.000000e+00</td>\n",
              "      <td>0.000000</td>\n",
              "      <td>0.000000e+00</td>\n",
              "      <td>1.000000</td>\n",
              "      <td>2218.250000</td>\n",
              "      <td>8.000000</td>\n",
              "      <td>13.000000</td>\n",
              "      <td>19.250000</td>\n",
              "      <td>0.000000e+00</td>\n",
              "      <td>0.000000e+00</td>\n",
              "      <td>0.000000</td>\n",
              "      <td>0.000000e+00</td>\n",
              "      <td>1.000000</td>\n",
              "      <td>0.000000e+00</td>\n",
              "      <td>0.000000</td>\n",
              "      <td>0.000000</td>\n",
              "      <td>0.000000</td>\n",
              "      <td>0.000000</td>\n",
              "      <td>0.000000</td>\n",
              "      <td>0.000000</td>\n",
              "      <td>0.000000</td>\n",
              "      <td>0.000000</td>\n",
              "      <td>0.000000</td>\n",
              "      <td>0.000000e+00</td>\n",
              "      <td>1.000000</td>\n",
              "      <td>1.000000</td>\n",
              "      <td>0.000000</td>\n",
              "      <td>7.604750e+03</td>\n",
              "      <td>0.000000e+00</td>\n",
              "      <td>0.000000</td>\n",
              "      <td>0.000000</td>\n",
              "      <td>0.000000</td>\n",
              "    </tr>\n",
              "    <tr>\n",
              "      <th>50%</th>\n",
              "      <td>31.000000</td>\n",
              "      <td>1.000000</td>\n",
              "      <td>43.000000</td>\n",
              "      <td>142.000000</td>\n",
              "      <td>1.000000</td>\n",
              "      <td>17.000000</td>\n",
              "      <td>14034.000000</td>\n",
              "      <td>0.000000</td>\n",
              "      <td>2.600000e+01</td>\n",
              "      <td>0.000000</td>\n",
              "      <td>0.000000e+00</td>\n",
              "      <td>1.000000</td>\n",
              "      <td>6072.000000</td>\n",
              "      <td>15.000000</td>\n",
              "      <td>13.000000</td>\n",
              "      <td>35.000000</td>\n",
              "      <td>0.000000e+00</td>\n",
              "      <td>0.000000e+00</td>\n",
              "      <td>0.000000</td>\n",
              "      <td>0.000000e+00</td>\n",
              "      <td>2.000000</td>\n",
              "      <td>1.416650e+04</td>\n",
              "      <td>0.000000</td>\n",
              "      <td>0.000000</td>\n",
              "      <td>1.000000</td>\n",
              "      <td>352.000000</td>\n",
              "      <td>0.000000</td>\n",
              "      <td>0.000000</td>\n",
              "      <td>0.000000</td>\n",
              "      <td>0.000000</td>\n",
              "      <td>0.000000</td>\n",
              "      <td>0.000000e+00</td>\n",
              "      <td>9.000000</td>\n",
              "      <td>1.000000</td>\n",
              "      <td>0.000000</td>\n",
              "      <td>4.117650e+04</td>\n",
              "      <td>0.000000e+00</td>\n",
              "      <td>0.000000</td>\n",
              "      <td>0.000000</td>\n",
              "      <td>1.000000</td>\n",
              "    </tr>\n",
              "    <tr>\n",
              "      <th>75%</th>\n",
              "      <td>64.000000</td>\n",
              "      <td>2.000000</td>\n",
              "      <td>52.000000</td>\n",
              "      <td>223.000000</td>\n",
              "      <td>2.000000</td>\n",
              "      <td>34.000000</td>\n",
              "      <td>75268.000000</td>\n",
              "      <td>8.000000</td>\n",
              "      <td>6.997900e+04</td>\n",
              "      <td>424.500000</td>\n",
              "      <td>1.120500e+04</td>\n",
              "      <td>1.000000</td>\n",
              "      <td>13250.500000</td>\n",
              "      <td>30.000000</td>\n",
              "      <td>14.000000</td>\n",
              "      <td>53.000000</td>\n",
              "      <td>2.100000e+04</td>\n",
              "      <td>0.000000e+00</td>\n",
              "      <td>0.000000</td>\n",
              "      <td>0.000000e+00</td>\n",
              "      <td>3.000000</td>\n",
              "      <td>7.630425e+04</td>\n",
              "      <td>1.000000</td>\n",
              "      <td>36155.000000</td>\n",
              "      <td>1.000000</td>\n",
              "      <td>29640.500000</td>\n",
              "      <td>0.000000</td>\n",
              "      <td>0.000000</td>\n",
              "      <td>0.000000</td>\n",
              "      <td>0.000000</td>\n",
              "      <td>0.000000</td>\n",
              "      <td>0.000000e+00</td>\n",
              "      <td>18.750000</td>\n",
              "      <td>2.000000</td>\n",
              "      <td>0.000000</td>\n",
              "      <td>1.292382e+05</td>\n",
              "      <td>3.367750e+03</td>\n",
              "      <td>1.000000</td>\n",
              "      <td>1.000000</td>\n",
              "      <td>16.000000</td>\n",
              "    </tr>\n",
              "    <tr>\n",
              "      <th>max</th>\n",
              "      <td>97.000000</td>\n",
              "      <td>7.000000</td>\n",
              "      <td>65.000000</td>\n",
              "      <td>870.000000</td>\n",
              "      <td>26.000000</td>\n",
              "      <td>19579.000000</td>\n",
              "      <td>901767.000000</td>\n",
              "      <td>99.000000</td>\n",
              "      <td>3.472938e+06</td>\n",
              "      <td>500780.000000</td>\n",
              "      <td>1.618242e+06</td>\n",
              "      <td>4.000000</td>\n",
              "      <td>241827.000000</td>\n",
              "      <td>4079.000000</td>\n",
              "      <td>812.000000</td>\n",
              "      <td>262.000000</td>\n",
              "      <td>1.331530e+06</td>\n",
              "      <td>3.472938e+06</td>\n",
              "      <td>13.000000</td>\n",
              "      <td>5.449561e+06</td>\n",
              "      <td>9.000000</td>\n",
              "      <td>1.950892e+07</td>\n",
              "      <td>4.000000</td>\n",
              "      <td>579603.000000</td>\n",
              "      <td>4.000000</td>\n",
              "      <td>559730.000000</td>\n",
              "      <td>6.000000</td>\n",
              "      <td>470455.000000</td>\n",
              "      <td>1.000000</td>\n",
              "      <td>21149.000000</td>\n",
              "      <td>1.000000</td>\n",
              "      <td>1.950000e+07</td>\n",
              "      <td>69.000000</td>\n",
              "      <td>5.000000</td>\n",
              "      <td>4.000000</td>\n",
              "      <td>1.985624e+07</td>\n",
              "      <td>7.066619e+06</td>\n",
              "      <td>1.000000</td>\n",
              "      <td>1.000000</td>\n",
              "      <td>114.000000</td>\n",
              "    </tr>\n",
              "  </tbody>\n",
              "</table>\n",
              "</div>"
            ],
            "text/plain": [
              "         departem     ptvente         age  ...       sexer    cartevpr    nbjdebit\n",
              "count  722.000000  722.000000  722.000000  ...  722.000000  722.000000  722.000000\n",
              "mean    41.326870    1.617729   42.774238  ...    0.322715    0.425208   14.479224\n",
              "std     19.284528    1.020248   11.247573  ...    0.467839    0.494717   24.772031\n",
              "min      6.000000    1.000000   19.000000  ...    0.000000    0.000000    0.000000\n",
              "25%     31.000000    1.000000   34.000000  ...    0.000000    0.000000    0.000000\n",
              "50%     31.000000    1.000000   43.000000  ...    0.000000    0.000000    1.000000\n",
              "75%     64.000000    2.000000   52.000000  ...    1.000000    1.000000   16.000000\n",
              "max     97.000000    7.000000   65.000000  ...    1.000000    1.000000  114.000000\n",
              "\n",
              "[8 rows x 40 columns]"
            ]
          },
          "metadata": {
            "tags": []
          },
          "execution_count": 10
        }
      ]
    },
    {
      "cell_type": "markdown",
      "metadata": {
        "id": "4lw0ZLzb9Ruc"
      },
      "source": [
        "### Description de la classe "
      ]
    },
    {
      "cell_type": "code",
      "metadata": {
        "colab": {
          "base_uri": "https://localhost:8080/",
          "height": 296
        },
        "id": "0NihwMdh81tj",
        "outputId": "4e121182-de6d-45ea-b0a0-b11da6bf82be"
      },
      "source": [
        "sb.countplot(x=D['cartevpr'],data=D)"
      ],
      "execution_count": null,
      "outputs": [
        {
          "output_type": "execute_result",
          "data": {
            "text/plain": [
              "<matplotlib.axes._subplots.AxesSubplot at 0x7f8bc0d62898>"
            ]
          },
          "metadata": {
            "tags": []
          },
          "execution_count": 11
        },
        {
          "output_type": "display_data",
          "data": {
            "image/png": "[encoded data removed]",
            "text/plain": [
              "<Figure size 432x288 with 1 Axes>"
            ]
          },
          "metadata": {
            "tags": [],
            "needs_background": "light"
          }
        }
      ]
    },
    {
      "cell_type": "code",
      "metadata": {
        "id": "L0oVO2aBckOh"
      },
      "source": [
        ""
      ],
      "execution_count": null,
      "outputs": []
    },
    {
      "cell_type": "code",
      "metadata": {
        "id": "juv_eII_53Jj",
        "colab": {
          "base_uri": "https://localhost:8080/",
          "height": 296
        },
        "outputId": "f81c6774-5c09-4a1e-eada-eb3aa29f6a3c"
      },
      "source": [
        "sb.countplot(x=D['cartevpr'],hue='sexer',data=D,palette='RdBu_r')"
      ],
      "execution_count": null,
      "outputs": [
        {
          "output_type": "execute_result",
          "data": {
            "text/plain": [
              "<matplotlib.axes._subplots.AxesSubplot at 0x7f8bc0d1e710>"
            ]
          },
          "metadata": {
            "tags": []
          },
          "execution_count": 12
        },
        {
          "output_type": "display_data",
          "data": {
            "image/png": "[encoded data removed]",
            "text/plain": [
              "<Figure size 432x288 with 1 Axes>"
            ]
          },
          "metadata": {
            "tags": [],
            "needs_background": "light"
          }
        }
      ]
    },
    {
      "cell_type": "markdown",
      "metadata": {
        "id": "_gftN4f7-atS"
      },
      "source": [
        "### **Trouver et remplacer les variables catégorielles**\r\n",
        "On code les variables Catégorielles avec des nombres  \r\n",
        "*  codeqlt : { A=1 , B=2 , C=3 , D=4 ,  E=5 }\r\n",
        "*  sitfamil : { Fmar=1 , Fcel=2 , Fdiv=3 , Fsep=4 , Fveu=5 , Fuli=6 }\r\n",
        "*   csp : { Pagri=1 , Pcad=2 , Psan=3 , Pouv=4 , Pemp=5 ,  Part=6 , Pret=7 }\r\n",
        "\r\n",
        "\r\n",
        "\r\n"
      ]
    },
    {
      "cell_type": "code",
      "metadata": {
        "colab": {
          "base_uri": "https://localhost:8080/",
          "height": 224
        },
        "id": "zaXw7fBE-iuP",
        "outputId": "0852fadc-0c1f-46b6-9d75-be0387af0dc4"
      },
      "source": [
        "#codeqlt\r\n",
        "re_code= {\"codeqlt\":{\"A\":1,\"B\":2,\"C\":3,\"D\":4,\"E\":5} ,\r\n",
        "          \"sitfamil\":{\"Fmar\":1,\"Fcel\":2,\"Fdiv\":3,\"Fsep\":4,\"Fveu\":5,\"Fuli\":6},\r\n",
        "          \"csp\":{\"Pagri\":1,\"Pcad\":2,\"Psan\":3,\"Pouv\":4,\"Pemp\":5,\"Part\":6,\"Pret\":7}\r\n",
        "          }\r\n",
        "D=D.replace(re_code)\r\n",
        "D.head()\r\n"
      ],
      "execution_count": null,
      "outputs": [
        {
          "output_type": "execute_result",
          "data": {
            "text/html": [
              "<div>\n",
              "<style scoped>\n",
              "    .dataframe tbody tr th:only-of-type {\n",
              "        vertical-align: middle;\n",
              "    }\n",
              "\n",
              "    .dataframe tbody tr th {\n",
              "        vertical-align: top;\n",
              "    }\n",
              "\n",
              "    .dataframe thead th {\n",
              "        text-align: right;\n",
              "    }\n",
              "</style>\n",
              "<table border=\"1\" class=\"dataframe\">\n",
              "  <thead>\n",
              "    <tr style=\"text-align: right;\">\n",
              "      <th></th>\n",
              "      <th>departem</th>\n",
              "      <th>ptvente</th>\n",
              "      <th>age</th>\n",
              "      <th>sitfamil</th>\n",
              "      <th>anciente</th>\n",
              "      <th>csp</th>\n",
              "      <th>codeqlt</th>\n",
              "      <th>nbopguic</th>\n",
              "      <th>moycred3</th>\n",
              "      <th>aveparmo</th>\n",
              "      <th>endette</th>\n",
              "      <th>engagemt</th>\n",
              "      <th>engagemc</th>\n",
              "      <th>engagemm</th>\n",
              "      <th>nbcptvue</th>\n",
              "      <th>moysold3</th>\n",
              "      <th>moycredi</th>\n",
              "      <th>agemvt</th>\n",
              "      <th>nbop</th>\n",
              "      <th>mtfactur</th>\n",
              "      <th>engageml</th>\n",
              "      <th>nbvie</th>\n",
              "      <th>mtvie</th>\n",
              "      <th>nbeparmo</th>\n",
              "      <th>mteparmo</th>\n",
              "      <th>nbeparlo</th>\n",
              "      <th>mteparlo</th>\n",
              "      <th>nblivret</th>\n",
              "      <th>mtlivret</th>\n",
              "      <th>nbeparlt</th>\n",
              "      <th>mteparlt</th>\n",
              "      <th>nbeparte</th>\n",
              "      <th>mteparte</th>\n",
              "      <th>nbbon</th>\n",
              "      <th>mtbon</th>\n",
              "      <th>nbpaiecb</th>\n",
              "      <th>nbcb</th>\n",
              "      <th>nbcbptar</th>\n",
              "      <th>avtscpte</th>\n",
              "      <th>aveparfi</th>\n",
              "      <th>sexer</th>\n",
              "      <th>cartevpr</th>\n",
              "      <th>nbjdebit</th>\n",
              "    </tr>\n",
              "  </thead>\n",
              "  <tbody>\n",
              "    <tr>\n",
              "      <th>0</th>\n",
              "      <td>31</td>\n",
              "      <td>1</td>\n",
              "      <td>51</td>\n",
              "      <td>1</td>\n",
              "      <td>238</td>\n",
              "      <td>2</td>\n",
              "      <td>1</td>\n",
              "      <td>0</td>\n",
              "      <td>115</td>\n",
              "      <td>701939</td>\n",
              "      <td>4</td>\n",
              "      <td>119216</td>\n",
              "      <td>0</td>\n",
              "      <td>119216</td>\n",
              "      <td>2</td>\n",
              "      <td>35938</td>\n",
              "      <td>114</td>\n",
              "      <td>11</td>\n",
              "      <td>49</td>\n",
              "      <td>206016</td>\n",
              "      <td>0</td>\n",
              "      <td>1</td>\n",
              "      <td>152530</td>\n",
              "      <td>4</td>\n",
              "      <td>701939</td>\n",
              "      <td>2</td>\n",
              "      <td>520145</td>\n",
              "      <td>2</td>\n",
              "      <td>181794</td>\n",
              "      <td>0</td>\n",
              "      <td>0</td>\n",
              "      <td>0</td>\n",
              "      <td>0</td>\n",
              "      <td>0</td>\n",
              "      <td>0</td>\n",
              "      <td>14</td>\n",
              "      <td>2</td>\n",
              "      <td>0</td>\n",
              "      <td>1303700</td>\n",
              "      <td>556967</td>\n",
              "      <td>0</td>\n",
              "      <td>1</td>\n",
              "      <td>1</td>\n",
              "    </tr>\n",
              "    <tr>\n",
              "      <th>1</th>\n",
              "      <td>82</td>\n",
              "      <td>6</td>\n",
              "      <td>52</td>\n",
              "      <td>1</td>\n",
              "      <td>270</td>\n",
              "      <td>2</td>\n",
              "      <td>1</td>\n",
              "      <td>4</td>\n",
              "      <td>19579</td>\n",
              "      <td>8920</td>\n",
              "      <td>0</td>\n",
              "      <td>0</td>\n",
              "      <td>0</td>\n",
              "      <td>0</td>\n",
              "      <td>1</td>\n",
              "      <td>132468</td>\n",
              "      <td>4079</td>\n",
              "      <td>11</td>\n",
              "      <td>50</td>\n",
              "      <td>98500</td>\n",
              "      <td>0</td>\n",
              "      <td>0</td>\n",
              "      <td>0</td>\n",
              "      <td>3</td>\n",
              "      <td>19508920</td>\n",
              "      <td>2</td>\n",
              "      <td>8920</td>\n",
              "      <td>0</td>\n",
              "      <td>0</td>\n",
              "      <td>0</td>\n",
              "      <td>0</td>\n",
              "      <td>0</td>\n",
              "      <td>0</td>\n",
              "      <td>1</td>\n",
              "      <td>19500000</td>\n",
              "      <td>5</td>\n",
              "      <td>2</td>\n",
              "      <td>0</td>\n",
              "      <td>19856243</td>\n",
              "      <td>133896</td>\n",
              "      <td>0</td>\n",
              "      <td>1</td>\n",
              "      <td>0</td>\n",
              "    </tr>\n",
              "    <tr>\n",
              "      <th>2</th>\n",
              "      <td>97</td>\n",
              "      <td>1</td>\n",
              "      <td>58</td>\n",
              "      <td>1</td>\n",
              "      <td>139</td>\n",
              "      <td>2</td>\n",
              "      <td>3</td>\n",
              "      <td>0</td>\n",
              "      <td>40</td>\n",
              "      <td>3402</td>\n",
              "      <td>0</td>\n",
              "      <td>0</td>\n",
              "      <td>0</td>\n",
              "      <td>0</td>\n",
              "      <td>1</td>\n",
              "      <td>1336</td>\n",
              "      <td>40</td>\n",
              "      <td>14</td>\n",
              "      <td>2</td>\n",
              "      <td>3394</td>\n",
              "      <td>0</td>\n",
              "      <td>0</td>\n",
              "      <td>0</td>\n",
              "      <td>1</td>\n",
              "      <td>3402</td>\n",
              "      <td>0</td>\n",
              "      <td>0</td>\n",
              "      <td>1</td>\n",
              "      <td>3402</td>\n",
              "      <td>0</td>\n",
              "      <td>0</td>\n",
              "      <td>0</td>\n",
              "      <td>0</td>\n",
              "      <td>0</td>\n",
              "      <td>0</td>\n",
              "      <td>0</td>\n",
              "      <td>1</td>\n",
              "      <td>0</td>\n",
              "      <td>122745</td>\n",
              "      <td>0</td>\n",
              "      <td>0</td>\n",
              "      <td>1</td>\n",
              "      <td>0</td>\n",
              "    </tr>\n",
              "    <tr>\n",
              "      <th>3</th>\n",
              "      <td>40</td>\n",
              "      <td>1</td>\n",
              "      <td>27</td>\n",
              "      <td>2</td>\n",
              "      <td>99</td>\n",
              "      <td>3</td>\n",
              "      <td>2</td>\n",
              "      <td>0</td>\n",
              "      <td>17</td>\n",
              "      <td>76321</td>\n",
              "      <td>0</td>\n",
              "      <td>0</td>\n",
              "      <td>0</td>\n",
              "      <td>0</td>\n",
              "      <td>1</td>\n",
              "      <td>12221</td>\n",
              "      <td>17</td>\n",
              "      <td>11</td>\n",
              "      <td>23</td>\n",
              "      <td>0</td>\n",
              "      <td>0</td>\n",
              "      <td>0</td>\n",
              "      <td>0</td>\n",
              "      <td>3</td>\n",
              "      <td>76321</td>\n",
              "      <td>1</td>\n",
              "      <td>46312</td>\n",
              "      <td>2</td>\n",
              "      <td>30009</td>\n",
              "      <td>0</td>\n",
              "      <td>0</td>\n",
              "      <td>0</td>\n",
              "      <td>0</td>\n",
              "      <td>0</td>\n",
              "      <td>0</td>\n",
              "      <td>14</td>\n",
              "      <td>2</td>\n",
              "      <td>0</td>\n",
              "      <td>83224</td>\n",
              "      <td>0</td>\n",
              "      <td>0</td>\n",
              "      <td>1</td>\n",
              "      <td>0</td>\n",
              "    </tr>\n",
              "    <tr>\n",
              "      <th>4</th>\n",
              "      <td>65</td>\n",
              "      <td>1</td>\n",
              "      <td>49</td>\n",
              "      <td>4</td>\n",
              "      <td>89</td>\n",
              "      <td>5</td>\n",
              "      <td>1</td>\n",
              "      <td>0</td>\n",
              "      <td>374</td>\n",
              "      <td>473350</td>\n",
              "      <td>0</td>\n",
              "      <td>209062</td>\n",
              "      <td>37859</td>\n",
              "      <td>171203</td>\n",
              "      <td>1</td>\n",
              "      <td>21187</td>\n",
              "      <td>208</td>\n",
              "      <td>11</td>\n",
              "      <td>49</td>\n",
              "      <td>0</td>\n",
              "      <td>0</td>\n",
              "      <td>1</td>\n",
              "      <td>21423</td>\n",
              "      <td>5</td>\n",
              "      <td>473350</td>\n",
              "      <td>3</td>\n",
              "      <td>399999</td>\n",
              "      <td>2</td>\n",
              "      <td>73351</td>\n",
              "      <td>0</td>\n",
              "      <td>0</td>\n",
              "      <td>0</td>\n",
              "      <td>0</td>\n",
              "      <td>0</td>\n",
              "      <td>0</td>\n",
              "      <td>11</td>\n",
              "      <td>3</td>\n",
              "      <td>1</td>\n",
              "      <td>494773</td>\n",
              "      <td>21423</td>\n",
              "      <td>0</td>\n",
              "      <td>1</td>\n",
              "      <td>15</td>\n",
              "    </tr>\n",
              "  </tbody>\n",
              "</table>\n",
              "</div>"
            ],
            "text/plain": [
              "   departem  ptvente  age  sitfamil  ...  aveparfi  sexer  cartevpr  nbjdebit\n",
              "0        31        1   51         1  ...    556967      0         1         1\n",
              "1        82        6   52         1  ...    133896      0         1         0\n",
              "2        97        1   58         1  ...         0      0         1         0\n",
              "3        40        1   27         2  ...         0      0         1         0\n",
              "4        65        1   49         4  ...     21423      0         1        15\n",
              "\n",
              "[5 rows x 43 columns]"
            ]
          },
          "metadata": {
            "tags": []
          },
          "execution_count": 13
        }
      ]
    },
    {
      "cell_type": "markdown",
      "metadata": {
        "id": "a8S-Mvhm8_Cj"
      },
      "source": [
        "### **One-Hot Encoding**\r\n",
        "On va utiliser une astuce qui convertit une colonne de donnée catégorielles (les variables categorielles qu'on a codé) en plusieurs colonnes de valeurs binaires "
      ]
    },
    {
      "cell_type": "code",
      "metadata": {
        "id": "ngqedESH9LGR"
      },
      "source": [
        "D=pd.get_dummies(D,columns=['sitfamil','csp','codeqlt'])"
      ],
      "execution_count": null,
      "outputs": []
    },
    {
      "cell_type": "markdown",
      "metadata": {
        "id": "nDLFdBc3oX_u"
      },
      "source": [
        "### **Extraction des échantillons apprentissage et test**\r\n"
      ]
    },
    {
      "cell_type": "code",
      "metadata": {
        "id": "0s35Bf-Umplm"
      },
      "source": [
        "y=D[\"cartevpr\"]\r\n",
        "D=D.drop(['cartevpr'],axis=1)\r\n",
        "rd_seed=50 #\r\n",
        "npop=len(D)\r\n",
        "D_trn,D_tst,y_trn,y_tst=train_test_split(D,y,test_size=150,random_state=rd_seed)"
      ],
      "execution_count": null,
      "outputs": []
    },
    {
      "cell_type": "markdown",
      "metadata": {
        "id": "fYngPe_tLGN_"
      },
      "source": [
        "### **Normalisation avec StandarScaler**"
      ]
    },
    {
      "cell_type": "code",
      "metadata": {
        "id": "baSGkHAELaqx"
      },
      "source": [
        "sc = StandardScaler()\r\n",
        "D_trn = sc.fit_transform(D_trn)\r\n",
        "D_tst = sc.transform(D_tst)"
      ],
      "execution_count": null,
      "outputs": []
    },
    {
      "cell_type": "markdown",
      "metadata": {
        "id": "ysu05QFOg9vH"
      },
      "source": [
        "### **Bayesien Naïf**"
      ]
    },
    {
      "cell_type": "code",
      "metadata": {
        "id": "I3Pt-e6vhFqa",
        "colab": {
          "base_uri": "https://localhost:8080/"
        },
        "outputId": "1bd21dea-8f12-4c27-e76e-7b4dfa36e24c"
      },
      "source": [
        "clf_nb = BernoulliNB()\r\n",
        "clf_nb.fit(D_trn, y_trn)\r\n",
        "y_pred = clf_nb.predict(D_tst)\r\n",
        "nb_ac=accuracy_score(y_tst,y_pred)\r\n",
        "nb_f1=f1_score(y_tst,y_pred)\r\n",
        "print(\"Accuracy = \"+str(nb_ac),\"F1_measure = \"+str(nb_f1))\r\n"
      ],
      "execution_count": null,
      "outputs": [
        {
          "output_type": "stream",
          "text": [
            "Accuracy = 0.7333333333333333 F1_measure = 0.6825396825396826\n"
          ],
          "name": "stdout"
        }
      ]
    },
    {
      "cell_type": "code",
      "metadata": {
        "id": "n5_hHlbQFixM",
        "colab": {
          "base_uri": "https://localhost:8080/",
          "height": 227
        },
        "outputId": "d5809c81-f732-4343-8068-5a0db5b1b8b6"
      },
      "source": [
        "#confusion matrix Bayesien naif\r\n",
        "fig, ax = plt.subplots(figsize=(3,3))\r\n",
        "plot_confusion_matrix(clf_nb,D_tst,y_tst,display_labels=[\"Cnon\", \"Coui\"],ax=ax)"
      ],
      "execution_count": null,
      "outputs": [
        {
          "output_type": "execute_result",
          "data": {
            "text/plain": [
              "<sklearn.metrics._plot.confusion_matrix.ConfusionMatrixDisplay at 0x7f8bc0cbfa20>"
            ]
          },
          "metadata": {
            "tags": []
          },
          "execution_count": 18
        },
        {
          "output_type": "display_data",
          "data": {
            "image/png": "[encoded data removed]",
            "text/plain": [
              "<Figure size 216x216 with 2 Axes>"
            ]
          },
          "metadata": {
            "tags": [],
            "needs_background": "light"
          }
        }
      ]
    },
    {
      "cell_type": "markdown",
      "metadata": {
        "id": "4gRc3t5yhXUg"
      },
      "source": [
        "### **KNN**"
      ]
    },
    {
      "cell_type": "code",
      "metadata": {
        "id": "IAce63-Jh5lS",
        "colab": {
          "base_uri": "https://localhost:8080/"
        },
        "outputId": "76ce5e7b-022b-4a1d-d8a2-9db6405f9239"
      },
      "source": [
        "from sklearn.neighbors import KNeighborsClassifier\r\n",
        "clf_knn = KNeighborsClassifier(n_neighbors=3)\r\n",
        "clf_knn.fit(D_trn, y_trn)\r\n",
        "y_pred=clf_knn.predict(D_tst)\r\n",
        "knn_ac=accuracy_score(y_tst,y_pred)\r\n",
        "knn_f1=f1_score(y_tst,y_pred)\r\n",
        "print(\"Accuracy = \"+str(knn_ac),\"F1_measure = \"+str(knn_f1))\r\n",
        "\r\n"
      ],
      "execution_count": null,
      "outputs": [
        {
          "output_type": "stream",
          "text": [
            "Accuracy = 0.7466666666666667 F1_measure = 0.6481481481481481\n"
          ],
          "name": "stdout"
        }
      ]
    },
    {
      "cell_type": "code",
      "metadata": {
        "id": "IJHdQG6LJ5Q_",
        "colab": {
          "base_uri": "https://localhost:8080/",
          "height": 227
        },
        "outputId": "f137b513-3589-4717-ea25-0ab7d5c8fe60"
      },
      "source": [
        "#confusion matrix KNN\r\n",
        "fig, ax = plt.subplots(figsize=(3,3)) \r\n",
        "plot_confusion_matrix(clf_knn,D_tst,y_tst,display_labels=[\"Cnon\", \"Coui\"],ax=ax)"
      ],
      "execution_count": null,
      "outputs": [
        {
          "output_type": "execute_result",
          "data": {
            "text/plain": [
              "<sklearn.metrics._plot.confusion_matrix.ConfusionMatrixDisplay at 0x7f8bc0ba9470>"
            ]
          },
          "metadata": {
            "tags": []
          },
          "execution_count": 20
        },
        {
          "output_type": "display_data",
          "data": {
            "image/png": "[encoded data removed]",
            "text/plain": [
              "<Figure size 216x216 with 2 Axes>"
            ]
          },
          "metadata": {
            "tags": [],
            "needs_background": "light"
          }
        }
      ]
    },
    {
      "cell_type": "markdown",
      "metadata": {
        "id": "U-NYatu3hlXg"
      },
      "source": [
        "### **LDA**"
      ]
    },
    {
      "cell_type": "code",
      "metadata": {
        "colab": {
          "base_uri": "https://localhost:8080/"
        },
        "id": "pSGAalp388Xd",
        "outputId": "df3a0edf-b372-4366-8cab-8e33d01937a4"
      },
      "source": [
        "clf_lda = LDA()\r\n",
        "clf_lda.fit(D_trn, y_trn)\r\n",
        "y_pred = clf_lda.predict(D_tst)\r\n",
        "lda_ac=accuracy_score(y_tst,y_pred)\r\n",
        "lda_f1=f1_score(y_tst,y_pred)\r\n",
        "print(\"Accuracy = \"+str(lda_ac),\"F1_measure = \"+str(lda_f1))"
      ],
      "execution_count": null,
      "outputs": [
        {
          "output_type": "stream",
          "text": [
            "Accuracy = 0.8 F1_measure = 0.7115384615384616\n"
          ],
          "name": "stdout"
        }
      ]
    },
    {
      "cell_type": "code",
      "metadata": {
        "colab": {
          "base_uri": "https://localhost:8080/",
          "height": 227
        },
        "id": "NKcbPAr2wXYx",
        "outputId": "22e5bd56-85d3-44f0-fdba-68912462511d"
      },
      "source": [
        "#confusion matrix LDA \r\n",
        "fig, ax = plt.subplots(figsize=(3,3)) #plot size \r\n",
        "plot_confusion_matrix(clf_lda,D_tst,y_tst,display_labels=[\"Cnon\", \"Coui\"],ax=ax)"
      ],
      "execution_count": null,
      "outputs": [
        {
          "output_type": "execute_result",
          "data": {
            "text/plain": [
              "<sklearn.metrics._plot.confusion_matrix.ConfusionMatrixDisplay at 0x7f8bc0b91d30>"
            ]
          },
          "metadata": {
            "tags": []
          },
          "execution_count": 22
        },
        {
          "output_type": "display_data",
          "data": {
            "image/png": "[encoded data removed]",
            "text/plain": [
              "<Figure size 216x216 with 2 Axes>"
            ]
          },
          "metadata": {
            "tags": [],
            "needs_background": "light"
          }
        }
      ]
    },
    {
      "cell_type": "markdown",
      "metadata": {
        "id": "W3FJTpcDhy9e"
      },
      "source": [
        "### **QDA**"
      ]
    },
    {
      "cell_type": "code",
      "metadata": {
        "colab": {
          "base_uri": "https://localhost:8080/"
        },
        "id": "i8A2c0JY1yVY",
        "outputId": "76e75f8b-427a-4723-99be-083a990ce9e7"
      },
      "source": [
        "clf_qda = QDA()\r\n",
        "clf_qda.fit(D_trn, y_trn)\r\n",
        "y_pred = clf_qda.predict(D_tst)\r\n",
        "qda_ac=accuracy_score(y_tst,y_pred)\r\n",
        "qda_f1=f1_score(y_tst,y_pred)\r\n",
        "print(\"Accuracy = \"+str(qda_ac),\"F1_measure = \"+str(qda_f1))"
      ],
      "execution_count": null,
      "outputs": [
        {
          "output_type": "stream",
          "text": [
            "Accuracy = 0.6866666666666666 F1_measure = 0.5052631578947367\n"
          ],
          "name": "stdout"
        },
        {
          "output_type": "stream",
          "text": [
            "/usr/local/lib/python3.6/dist-packages/sklearn/discriminant_analysis.py:691: UserWarning: Variables are collinear\n",
            "  warnings.warn(\"Variables are collinear\")\n"
          ],
          "name": "stderr"
        }
      ]
    },
    {
      "cell_type": "code",
      "metadata": {
        "colab": {
          "base_uri": "https://localhost:8080/",
          "height": 227
        },
        "id": "oCkbcO5xT6L8",
        "outputId": "8fd575d0-0023-4009-f5d2-4b7678728060"
      },
      "source": [
        "#confusion matrix QDA\r\n",
        "fig, ax = plt.subplots(figsize=(3,3)) #plot size \r\n",
        "plot_confusion_matrix(clf_qda,D_tst,y_tst,display_labels=[\"Cnon\", \"Coui\"],ax=ax)"
      ],
      "execution_count": null,
      "outputs": [
        {
          "output_type": "execute_result",
          "data": {
            "text/plain": [
              "<sklearn.metrics._plot.confusion_matrix.ConfusionMatrixDisplay at 0x7f8bc0b91dd8>"
            ]
          },
          "metadata": {
            "tags": []
          },
          "execution_count": 24
        },
        {
          "output_type": "display_data",
          "data": {
            "image/png": "[encoded data removed]",
            "text/plain": [
              "<Figure size 216x216 with 2 Axes>"
            ]
          },
          "metadata": {
            "tags": [],
            "needs_background": "light"
          }
        }
      ]
    },
    {
      "cell_type": "markdown",
      "metadata": {
        "id": "ZDzSuBrqh7c2"
      },
      "source": [
        "### **Linear SVM**"
      ]
    },
    {
      "cell_type": "code",
      "metadata": {
        "id": "rxErbUDHPD-M",
        "colab": {
          "base_uri": "https://localhost:8080/"
        },
        "outputId": "eaf3f6dd-58fd-4c2f-929a-f4b5949727e4"
      },
      "source": [
        "\r\n",
        "clf_lsvm=svm.LinearSVC()\r\n",
        "clf_lsvm.fit(D_trn,y_trn)\r\n",
        "y_pred = clf_lsvm.predict(D_tst) \r\n",
        "l_svm_ac=accuracy_score(y_tst,y_pred)\r\n",
        "l_svm_f1=f1_score(y_tst,y_pred)\r\n",
        "print(\"Accuracy = \"+str(l_svm_ac),\"F1_measure = \"+str(l_svm_f1))\r\n"
      ],
      "execution_count": null,
      "outputs": [
        {
          "output_type": "stream",
          "text": [
            "Accuracy = 0.82 F1_measure = 0.7610619469026549\n"
          ],
          "name": "stdout"
        },
        {
          "output_type": "stream",
          "text": [
            "/usr/local/lib/python3.6/dist-packages/sklearn/svm/_base.py:947: ConvergenceWarning: Liblinear failed to converge, increase the number of iterations.\n",
            "  \"the number of iterations.\", ConvergenceWarning)\n"
          ],
          "name": "stderr"
        }
      ]
    },
    {
      "cell_type": "code",
      "metadata": {
        "id": "vRRujlpQOV5v",
        "colab": {
          "base_uri": "https://localhost:8080/",
          "height": 231
        },
        "outputId": "0ca1f0d6-d382-421c-ed70-7e8318981a43"
      },
      "source": [
        "#confusion matrix Linear SVM\r\n",
        "fig, ax = plt.subplots(figsize=(3,3)) #plot size \r\n",
        "plot_confusion_matrix(clf_lsvm,D_tst,y_tst,display_labels=[\"Cnon\", \"Coui\"],ax=ax)"
      ],
      "execution_count": null,
      "outputs": [
        {
          "output_type": "execute_result",
          "data": {
            "text/plain": [
              "<sklearn.metrics._plot.confusion_matrix.ConfusionMatrixDisplay at 0x7f8bb5a2bac8>"
            ]
          },
          "metadata": {
            "tags": []
          },
          "execution_count": 26
        },
        {
          "output_type": "display_data",
          "data": {
            "image/png": "[encoded data removed]",
            "text/plain": [
              "<Figure size 216x216 with 2 Axes>"
            ]
          },
          "metadata": {
            "tags": [],
            "needs_background": "light"
          }
        }
      ]
    },
    {
      "cell_type": "markdown",
      "metadata": {
        "id": "u314ihSHiEaz"
      },
      "source": [
        "### **Non Linear SVM**"
      ]
    },
    {
      "cell_type": "markdown",
      "metadata": {
        "id": "bcg1VqK_ABTT"
      },
      "source": [
        "**Optimiser les paramètres avec GridSearch**"
      ]
    },
    {
      "cell_type": "code",
      "metadata": {
        "colab": {
          "base_uri": "https://localhost:8080/"
        },
        "id": "IKC_mVAn-65g",
        "outputId": "3afc8850-6d8b-4d11-b3f9-4e100823fa69"
      },
      "source": [
        "param_grid = [\r\n",
        "  {'C': [1, 10, 100, 1000], \r\n",
        "   'gamma': [0.001, 0.0001], \r\n",
        "   'kernel': ['rbf']},\r\n",
        " ] #kernel - rbf\r\n",
        "\r\n",
        "optimal_params = GridSearchCV(svm.SVC(),param_grid,cv=5,verbose=0)\r\n",
        "\r\n",
        "optimal_params.fit(D_trn, y_trn) #fit\r\n",
        "\r\n",
        "print(optimal_params.best_params_)"
      ],
      "execution_count": null,
      "outputs": [
        {
          "output_type": "stream",
          "text": [
            "{'C': 100, 'gamma': 0.001, 'kernel': 'rbf'}\n"
          ],
          "name": "stdout"
        }
      ]
    },
    {
      "cell_type": "markdown",
      "metadata": {
        "id": "_SpgHxNBAPN1"
      },
      "source": [
        "**Tester le SVM finale**"
      ]
    },
    {
      "cell_type": "code",
      "metadata": {
        "id": "PR5TlksuiD3p",
        "colab": {
          "base_uri": "https://localhost:8080/"
        },
        "outputId": "6f8b2088-09a1-4add-dcc1-db4bf2ed353d"
      },
      "source": [
        "clf_svm=svm.SVC(C=100,gamma=0.001,kernel='rbf')\r\n",
        "clf_svm.fit(D_trn,y_trn)\r\n",
        "y_pred = clf_svm.predict(D_tst) \r\n",
        "nl_svm_ac=accuracy_score(y_tst,y_pred)\r\n",
        "nl_svm_f1=f1_score(y_tst,y_pred)\r\n",
        "print(\"Accuracy = \"+str(nl_svm_ac),\"F1_measure = \"+str(nl_svm_f1))\r\n"
      ],
      "execution_count": null,
      "outputs": [
        {
          "output_type": "stream",
          "text": [
            "Accuracy = 0.8266666666666667 F1_measure = 0.7678571428571428\n"
          ],
          "name": "stdout"
        }
      ]
    },
    {
      "cell_type": "code",
      "metadata": {
        "id": "bflbMR9R7ls1",
        "colab": {
          "base_uri": "https://localhost:8080/",
          "height": 229
        },
        "outputId": "5d4269e9-10bb-40cd-b3e6-3a5eef6de650"
      },
      "source": [
        "#confusion matrix Linear SVM\r\n",
        "fig, ax = plt.subplots(figsize=(3,3)) #plot size \r\n",
        "plot_confusion_matrix(clf_svm,D_tst,y_tst,display_labels=[\"Cnon\", \"Coui\"],ax=ax)"
      ],
      "execution_count": null,
      "outputs": [
        {
          "output_type": "execute_result",
          "data": {
            "text/plain": [
              "<sklearn.metrics._plot.confusion_matrix.ConfusionMatrixDisplay at 0x7f8bb59920f0>"
            ]
          },
          "metadata": {
            "tags": []
          },
          "execution_count": 29
        },
        {
          "output_type": "display_data",
          "data": {
            "image/png": "[encoded data removed]",
            "text/plain": [
              "<Figure size 216x216 with 2 Axes>"
            ]
          },
          "metadata": {
            "tags": [],
            "needs_background": "light"
          }
        }
      ]
    },
    {
      "cell_type": "markdown",
      "metadata": {
        "id": "6U9T51z2iHQI"
      },
      "source": [
        "### **Régression Logistique**"
      ]
    },
    {
      "cell_type": "code",
      "metadata": {
        "id": "YrTC-SJriQjf",
        "colab": {
          "base_uri": "https://localhost:8080/"
        },
        "outputId": "700e9f79-9279-42b4-f19b-44174f6fa28c"
      },
      "source": [
        "clf_lr= LogisticRegression()\r\n",
        "clf_lr.fit(D_trn,y_trn)\r\n",
        "y_pred=clf_lr.predict(D_tst)\r\n",
        "lr_ac=accuracy_score(y_tst,y_pred)\r\n",
        "lr_f1=f1_score(y_tst,y_pred)\r\n",
        "print(\"Accuracy = \"+str(lr_ac),\"F1_measure = \"+str(lr_f1))"
      ],
      "execution_count": null,
      "outputs": [
        {
          "output_type": "stream",
          "text": [
            "Accuracy = 0.8066666666666666 F1_measure = 0.7387387387387386\n"
          ],
          "name": "stdout"
        }
      ]
    },
    {
      "cell_type": "code",
      "metadata": {
        "colab": {
          "base_uri": "https://localhost:8080/",
          "height": 231
        },
        "id": "LymrKxYtZjOQ",
        "outputId": "8141d4ad-074d-476c-acf9-dfa4dd3ebb5b"
      },
      "source": [
        "#confusion matrix Regression logistique\r\n",
        "fig, ax = plt.subplots(figsize=(3,3)) #plot size \r\n",
        "plot_confusion_matrix(clf_lr,D_tst,y_tst,display_labels=[\"Cnon\", \"Coui\"],ax=ax)"
      ],
      "execution_count": null,
      "outputs": [
        {
          "output_type": "execute_result",
          "data": {
            "text/plain": [
              "<sklearn.metrics._plot.confusion_matrix.ConfusionMatrixDisplay at 0x7f8bb5a39828>"
            ]
          },
          "metadata": {
            "tags": []
          },
          "execution_count": 31
        },
        {
          "output_type": "display_data",
          "data": {
            "image/png": "[encoded data removed]",
            "text/plain": [
              "<Figure size 216x216 with 2 Axes>"
            ]
          },
          "metadata": {
            "tags": [],
            "needs_background": "light"
          }
        }
      ]
    },
    {
      "cell_type": "markdown",
      "metadata": {
        "id": "3BdZvwJIiRWe"
      },
      "source": [
        "### **CART**"
      ]
    },
    {
      "cell_type": "code",
      "metadata": {
        "id": "IARQjAyhiUVi",
        "colab": {
          "base_uri": "https://localhost:8080/"
        },
        "outputId": "8db769f6-58b5-4d22-de49-86fc967cfd36"
      },
      "source": [
        "clf_cart = DecisionTreeClassifier()\r\n",
        "clf_cart.fit(D_trn, y_trn)\r\n",
        "y_pred = clf_cart.predict(D_tst)\r\n",
        "cart_ac=accuracy_score(y_tst,y_pred)\r\n",
        "cart_f1=f1_score(y_tst,y_pred)\r\n",
        "print(\"Accuracy = \"+str(cart_ac),\"F1_measure = \"+str(cart_f1))"
      ],
      "execution_count": null,
      "outputs": [
        {
          "output_type": "stream",
          "text": [
            "Accuracy = 0.86 F1_measure = 0.8235294117647058\n"
          ],
          "name": "stdout"
        }
      ]
    },
    {
      "cell_type": "code",
      "metadata": {
        "id": "CREuTc_FxbmE",
        "colab": {
          "base_uri": "https://localhost:8080/",
          "height": 231
        },
        "outputId": "9bb7e29b-89a6-4bf6-f14e-62146115ebe7"
      },
      "source": [
        "#confusion matrix Linear SVM\r\n",
        "fig, ax = plt.subplots(figsize=(3,3)) #plot size \r\n",
        "plot_confusion_matrix(clf_cart,D_tst,y_tst,display_labels=[\"Cnon\", \"Coui\"],ax=ax)"
      ],
      "execution_count": null,
      "outputs": [
        {
          "output_type": "execute_result",
          "data": {
            "text/plain": [
              "<sklearn.metrics._plot.confusion_matrix.ConfusionMatrixDisplay at 0x7f8bb5a4c780>"
            ]
          },
          "metadata": {
            "tags": []
          },
          "execution_count": 33
        },
        {
          "output_type": "display_data",
          "data": {
            "image/png": "[encoded data removed]",
            "text/plain": [
              "<Figure size 216x216 with 2 Axes>"
            ]
          },
          "metadata": {
            "tags": [],
            "needs_background": "light"
          }
        }
      ]
    },
    {
      "cell_type": "markdown",
      "metadata": {
        "id": "o4Ac9nt7iUmm"
      },
      "source": [
        "### **Random Forest**"
      ]
    },
    {
      "cell_type": "code",
      "metadata": {
        "id": "xkG9zVMPidFF",
        "colab": {
          "base_uri": "https://localhost:8080/"
        },
        "outputId": "688aa705-ff12-496c-bbf2-ab1f2c011911"
      },
      "source": [
        "clf_rf = RandomForestClassifier(max_depth=21, random_state=0)\r\n",
        "clf_rf.fit(D_trn, y_trn)\r\n",
        "y_pred = clf_rf.predict(D_tst)\r\n",
        "rf_ac=accuracy_score(y_tst,y_pred)\r\n",
        "rf_f1=f1_score(y_tst,y_pred)\r\n",
        "print(\"Accuracy = \"+str(rf_ac),\"F1_measure = \"+str(rf_f1))"
      ],
      "execution_count": null,
      "outputs": [
        {
          "output_type": "stream",
          "text": [
            "Accuracy = 0.8933333333333333 F1_measure = 0.8620689655172413\n"
          ],
          "name": "stdout"
        }
      ]
    },
    {
      "cell_type": "code",
      "metadata": {
        "colab": {
          "base_uri": "https://localhost:8080/",
          "height": 227
        },
        "id": "dnhBIrjwyafL",
        "outputId": "7fc06e52-efa4-4258-9764-c250539ba39d"
      },
      "source": [
        "#confusion matrix Random Forest\r\n",
        "fig, ax = plt.subplots(figsize=(3,3)) #plot size \r\n",
        "plot_confusion_matrix(clf_rf,D_tst,y_tst,display_labels=[\"Cnon\", \"Coui\"],ax=ax)"
      ],
      "execution_count": null,
      "outputs": [
        {
          "output_type": "execute_result",
          "data": {
            "text/plain": [
              "<sklearn.metrics._plot.confusion_matrix.ConfusionMatrixDisplay at 0x7f8bb5a82c88>"
            ]
          },
          "metadata": {
            "tags": []
          },
          "execution_count": 35
        },
        {
          "output_type": "display_data",
          "data": {
            "image/png": "[encoded data removed]",
            "text/plain": [
              "<Figure size 216x216 with 2 Axes>"
            ]
          },
          "metadata": {
            "tags": [],
            "needs_background": "light"
          }
        }
      ]
    },
    {
      "cell_type": "markdown",
      "metadata": {
        "id": "RnxausCodlJ_"
      },
      "source": [
        "## **Comparaison entre les methodes**"
      ]
    },
    {
      "cell_type": "code",
      "metadata": {
        "id": "WwUNXyfjd8SO"
      },
      "source": [
        "results ={'Accuracy': [nb_ac*100,knn_ac*100,nl_svm_ac*100,l_svm_ac*100,lr_ac*100,cart_ac*100,rf_ac*100,lda_ac*100,qda_ac*100],\r\n",
        "          'F1_mesure': [nb_f1*100,knn_f1*100,nl_svm_f1*100,l_svm_f1*100,lr_f1*100,cart_f1*100,rf_f1*100,lda_f1*100,qda_f1*100]}\r\n",
        "index = [\"Bayesien Naïf\",\"KNN\",\"Lineair SVM\",\"Non Lineair SVM\",\"Regression Lineair\",\"CART\",\"Random Forest\",\"LDA\",\"QDA\"]\r\n",
        "results =pd.DataFrame(results,index=index)\r\n"
      ],
      "execution_count": null,
      "outputs": []
    },
    {
      "cell_type": "code",
      "metadata": {
        "id": "o86v93dlg63J",
        "colab": {
          "base_uri": "https://localhost:8080/",
          "height": 455
        },
        "outputId": "a7b520bc-4a9b-42b0-b7ae-816b3c1b2520"
      },
      "source": [
        "r=results.plot(kind='bar',title='Comparaison entre les modèles ',figsize=(19,8),color = ['darkslategrey', 'c'],rot=10,fontsize=15)\r\n",
        "for p in r.patches:\r\n",
        "    r.annotate(format(p.get_height(), '.1f'), \r\n",
        "                   (p.get_x() + p.get_width() / 2., p.get_height()), \r\n",
        "                   ha = 'center', va = 'center', \r\n",
        "                   xytext = (2,8), \r\n",
        "                   textcoords = 'offset points',\r\n",
        "                   fontsize=15)"
      ],
      "execution_count": null,
      "outputs": [
        {
          "output_type": "display_data",
          "data": {
            "image/png": "[encoded data removed]",
            "text/plain": [
              "<Figure size 1368x576 with 1 Axes>"
            ]
          },
          "metadata": {
            "tags": [],
            "needs_background": "light"
          }
        }
      ]
    },
    {
      "cell_type": "code",
      "metadata": {
        "id": "Wza9YWm9g6ux"
      },
      "source": [
        ""
      ],
      "execution_count": null,
      "outputs": []
    }
  ]
}